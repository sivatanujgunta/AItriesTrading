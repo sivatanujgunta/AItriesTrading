{
  "nbformat": 4,
  "nbformat_minor": 0,
  "metadata": {
    "colab": {
      "provenance": [],
      "authorship_tag": "ABX9TyMwqoIeZ3KCs/ajVNYawSan",
      "include_colab_link": true
    },
    "kernelspec": {
      "name": "python3",
      "display_name": "Python 3"
    },
    "language_info": {
      "name": "python"
    }
  },
  "cells": [
    {
      "cell_type": "markdown",
      "metadata": {
        "id": "view-in-github",
        "colab_type": "text"
      },
      "source": [
        "<a href=\"https://colab.research.google.com/github/sivatanujgunta/AItriesTrading/blob/main/AItriesTrading.ipynb\" target=\"_parent\"><img src=\"https://colab.research.google.com/assets/colab-badge.svg\" alt=\"Open In Colab\"/></a>"
      ]
    },
    {
      "cell_type": "code",
      "source": [
        "# Thanks to ChatGPT and Gemini AI for making vibe coding easy"
      ],
      "metadata": {
        "id": "GixzvC4E9QIC"
      },
      "execution_count": 1,
      "outputs": []
    },
    {
      "cell_type": "code",
      "source": [
        "# Import necessary libraries\n",
        "import pandas as pd\n",
        "import numpy as np\n",
        "import yfinance as yf\n",
        "import matplotlib.pyplot as plt"
      ],
      "metadata": {
        "id": "C_ufFm7LmzA9"
      },
      "execution_count": 2,
      "outputs": []
    },
    {
      "cell_type": "code",
      "source": [
        "# Feature calculation parameters\n",
        "short_term_ema_period = 10  # Short-term Exponential Moving Average period\n",
        "long_term_ema_period = 50  # Long-term Exponential Moving Average period\n",
        "atr_period = 14  # Average True Range period for stop loss calculation\n",
        "bollinger_band_sma_period = 20  # Bollinger Band Simple Moving Average period\n",
        "bollinger_band_std_multiplier = 2  # Bollinger Band standard deviation multiplier"
      ],
      "metadata": {
        "id": "q2Sbe7HB2DQu"
      },
      "execution_count": 3,
      "outputs": []
    },
    {
      "cell_type": "code",
      "source": [
        "# Fetch historical data for a stock\n",
        "symbol = 'AAPL'  # You can replace this with any stock ticker\n",
        "data = yf.download(symbol, start='2020-01-01', end='2025-01-01')"
      ],
      "metadata": {
        "colab": {
          "base_uri": "https://localhost:8080/"
        },
        "collapsed": true,
        "id": "abQJK_KqnCoN",
        "outputId": "f439f310-d6ae-41d3-8a2c-d9190c450bba"
      },
      "execution_count": 4,
      "outputs": [
        {
          "output_type": "stream",
          "name": "stdout",
          "text": [
            "YF.download() has changed argument auto_adjust default to True\n"
          ]
        },
        {
          "output_type": "stream",
          "name": "stderr",
          "text": [
            "\r[*********************100%***********************]  1 of 1 completed\n"
          ]
        }
      ]
    },
    {
      "cell_type": "code",
      "source": [
        "# Calculate the short-term and long-term Exponential Moving Averages (EMAs)\n",
        "data['EMA10'] = data['Close'].ewm(span=short_term_ema_period, adjust=False).mean()\n",
        "data['EMA50'] = data['Close'].ewm(span=long_term_ema_period, adjust=False).mean()"
      ],
      "metadata": {
        "id": "ul9gPuJinPxv"
      },
      "execution_count": 5,
      "outputs": []
    },
    {
      "cell_type": "code",
      "source": [
        "# Calculate the Relative Strength Index (RSI)\n",
        "delta = data['Close'].diff(1)\n",
        "gain = (delta.where(delta > 0, 0)).rolling(window=atr_period).mean()\n",
        "loss = (-delta.where(delta < 0, 0)).rolling(window=atr_period).mean()\n",
        "rs = gain / loss\n",
        "data['RSI'] = 100 - (100 / (1 + rs))"
      ],
      "metadata": {
        "id": "EhB_KJOO0RqJ"
      },
      "execution_count": 6,
      "outputs": []
    },
    {
      "cell_type": "code",
      "source": [
        "# Calculate the Average True Range (ATR) for setting the stop loss\n",
        "high_low = data['High'] - data['Low']\n",
        "high_close = np.abs(data['High'] - data['Close'].shift(1))\n",
        "low_close = np.abs(data['Low'] - data['Close'].shift(1))\n",
        "tr = pd.concat([high_low, high_close, low_close], axis=1, ignore_index=True)\n",
        "data['ATR'] = tr.max(axis=1).rolling(window=atr_period).mean()"
      ],
      "metadata": {
        "id": "dtZroSgRn4s0"
      },
      "execution_count": 7,
      "outputs": []
    },
    {
      "cell_type": "code",
      "source": [
        "# Calculate Bollinger Bands for Close prices\n",
        "data['SMA20'] = data['Close'].rolling(window=bollinger_band_sma_period).mean()  # Simple Moving Average\n",
        "data['STD20'] = data['Close'].rolling(window=bollinger_band_sma_period).std()   # Standard Deviation\n",
        "data['Upper_Band'] = data['SMA20'] + (bollinger_band_std_multiplier * data['STD20'])  # Upper Bollinger Band\n",
        "data['Lower_Band'] = pd.DataFrame(data['SMA20'] - (bollinger_band_std_multiplier * data['STD20']))  # Lower Bollinger Band\n",
        "data['Lower_Band']"
      ],
      "metadata": {
        "colab": {
          "base_uri": "https://localhost:8080/",
          "height": 489
        },
        "id": "RthoKxasq4wT",
        "outputId": "3401f883-b0d2-4e7a-dd93-b578e1c16447"
      },
      "execution_count": 8,
      "outputs": [
        {
          "output_type": "execute_result",
          "data": {
            "text/plain": [
              "Date\n",
              "2020-01-02           NaN\n",
              "2020-01-03           NaN\n",
              "2020-01-06           NaN\n",
              "2020-01-07           NaN\n",
              "2020-01-08           NaN\n",
              "                 ...    \n",
              "2024-12-24    232.940509\n",
              "2024-12-26    234.080573\n",
              "2024-12-27    236.053844\n",
              "2024-12-30    237.904829\n",
              "2024-12-31    239.418502\n",
              "Name: Lower_Band, Length: 1258, dtype: float64"
            ],
            "text/html": [
              "<div>\n",
              "<style scoped>\n",
              "    .dataframe tbody tr th:only-of-type {\n",
              "        vertical-align: middle;\n",
              "    }\n",
              "\n",
              "    .dataframe tbody tr th {\n",
              "        vertical-align: top;\n",
              "    }\n",
              "\n",
              "    .dataframe thead th {\n",
              "        text-align: right;\n",
              "    }\n",
              "</style>\n",
              "<table border=\"1\" class=\"dataframe\">\n",
              "  <thead>\n",
              "    <tr style=\"text-align: right;\">\n",
              "      <th></th>\n",
              "      <th>Lower_Band</th>\n",
              "    </tr>\n",
              "    <tr>\n",
              "      <th>Date</th>\n",
              "      <th></th>\n",
              "    </tr>\n",
              "  </thead>\n",
              "  <tbody>\n",
              "    <tr>\n",
              "      <th>2020-01-02</th>\n",
              "      <td>NaN</td>\n",
              "    </tr>\n",
              "    <tr>\n",
              "      <th>2020-01-03</th>\n",
              "      <td>NaN</td>\n",
              "    </tr>\n",
              "    <tr>\n",
              "      <th>2020-01-06</th>\n",
              "      <td>NaN</td>\n",
              "    </tr>\n",
              "    <tr>\n",
              "      <th>2020-01-07</th>\n",
              "      <td>NaN</td>\n",
              "    </tr>\n",
              "    <tr>\n",
              "      <th>2020-01-08</th>\n",
              "      <td>NaN</td>\n",
              "    </tr>\n",
              "    <tr>\n",
              "      <th>...</th>\n",
              "      <td>...</td>\n",
              "    </tr>\n",
              "    <tr>\n",
              "      <th>2024-12-24</th>\n",
              "      <td>232.940509</td>\n",
              "    </tr>\n",
              "    <tr>\n",
              "      <th>2024-12-26</th>\n",
              "      <td>234.080573</td>\n",
              "    </tr>\n",
              "    <tr>\n",
              "      <th>2024-12-27</th>\n",
              "      <td>236.053844</td>\n",
              "    </tr>\n",
              "    <tr>\n",
              "      <th>2024-12-30</th>\n",
              "      <td>237.904829</td>\n",
              "    </tr>\n",
              "    <tr>\n",
              "      <th>2024-12-31</th>\n",
              "      <td>239.418502</td>\n",
              "    </tr>\n",
              "  </tbody>\n",
              "</table>\n",
              "<p>1258 rows × 1 columns</p>\n",
              "</div><br><label><b>dtype:</b> float64</label>"
            ]
          },
          "metadata": {},
          "execution_count": 8
        }
      ]
    },
    {
      "cell_type": "code",
      "source": [
        "# Generate Buy and Sell signals\n",
        "\n",
        "# Strategy 1 - Short term and Long term EMA crossover\n",
        "data['Buy_Signal'] = np.where(data['EMA10'] > data['EMA50'], 1, 0)  # Buy signal when EMA10 > EMA50\n",
        "data['Sell_Signal'] = np.where(data['EMA10'] < data['EMA50'], -1, 0)  # Sell signal when EMA10 < EMA50\n",
        "\n",
        "# Strategy 2 - Short term and Long term EMA crossover with RSI filter\n",
        "rsi_oversold_threshold = 30\n",
        "rsi_overbought_threshold = 70\n",
        "data['Buy_Signal'] = np.where((data['EMA10'] > data['EMA50']) & (data['RSI'] > rsi_oversold_threshold), 1, 0)\n",
        "data['Sell_Signal'] = np.where((data['EMA10'] < data['EMA50']) | (data['RSI'] < rsi_overbought_threshold), -1, 0)\n",
        "\n",
        "# Strategy 3 - Bollinger bands with RSI filter\n",
        "print(type(data['Close']))\n",
        "print(type(data['SMA20']))\n",
        "print(type(data['Lower_Band']))\n",
        "data['Close'], data['Lower_Band'] = data['Close'].align(data['Lower_Band'], axis=1, copy=False)\n",
        "data['Buy_Signal'] = np.where((data['Close'] <= data['Lower_Band']) & (data['RSI'] > rsi_oversold_threshold), 1, 0)\n",
        "data['Sell_Signal'] = np.where((data['Close'] >= data['Upper_Band']) & (data['RSI'] < rsi_overbought_threshold), -1, 0)\n",
        "\n",
        "data['Signal'] = data['Buy_Signal'] + data['Sell_Signal']"
      ],
      "metadata": {
        "id": "jvrpEGD2nywz",
        "colab": {
          "base_uri": "https://localhost:8080/",
          "height": 426
        },
        "outputId": "402f9c1b-4342-4deb-d612-114148b74b41"
      },
      "execution_count": 9,
      "outputs": [
        {
          "output_type": "stream",
          "name": "stdout",
          "text": [
            "<class 'pandas.core.frame.DataFrame'>\n",
            "<class 'pandas.core.series.Series'>\n",
            "<class 'pandas.core.series.Series'>\n"
          ]
        },
        {
          "output_type": "error",
          "ename": "ValueError",
          "evalue": "Columns must be same length as key",
          "traceback": [
            "\u001b[0;31m---------------------------------------------------------------------------\u001b[0m",
            "\u001b[0;31mValueError\u001b[0m                                Traceback (most recent call last)",
            "\u001b[0;32m<ipython-input-9-a91f4454d32b>\u001b[0m in \u001b[0;36m<cell line: 0>\u001b[0;34m()\u001b[0m\n\u001b[1;32m     15\u001b[0m \u001b[0mprint\u001b[0m\u001b[0;34m(\u001b[0m\u001b[0mtype\u001b[0m\u001b[0;34m(\u001b[0m\u001b[0mdata\u001b[0m\u001b[0;34m[\u001b[0m\u001b[0;34m'SMA20'\u001b[0m\u001b[0;34m]\u001b[0m\u001b[0;34m)\u001b[0m\u001b[0;34m)\u001b[0m\u001b[0;34m\u001b[0m\u001b[0;34m\u001b[0m\u001b[0m\n\u001b[1;32m     16\u001b[0m \u001b[0mprint\u001b[0m\u001b[0;34m(\u001b[0m\u001b[0mtype\u001b[0m\u001b[0;34m(\u001b[0m\u001b[0mdata\u001b[0m\u001b[0;34m[\u001b[0m\u001b[0;34m'Lower_Band'\u001b[0m\u001b[0;34m]\u001b[0m\u001b[0;34m)\u001b[0m\u001b[0;34m)\u001b[0m\u001b[0;34m\u001b[0m\u001b[0;34m\u001b[0m\u001b[0m\n\u001b[0;32m---> 17\u001b[0;31m \u001b[0mdata\u001b[0m\u001b[0;34m[\u001b[0m\u001b[0;34m'Close'\u001b[0m\u001b[0;34m]\u001b[0m\u001b[0;34m,\u001b[0m \u001b[0mdata\u001b[0m\u001b[0;34m[\u001b[0m\u001b[0;34m'Lower_Band'\u001b[0m\u001b[0;34m]\u001b[0m \u001b[0;34m=\u001b[0m \u001b[0mdata\u001b[0m\u001b[0;34m[\u001b[0m\u001b[0;34m'Close'\u001b[0m\u001b[0;34m]\u001b[0m\u001b[0;34m.\u001b[0m\u001b[0malign\u001b[0m\u001b[0;34m(\u001b[0m\u001b[0mdata\u001b[0m\u001b[0;34m[\u001b[0m\u001b[0;34m'Lower_Band'\u001b[0m\u001b[0;34m]\u001b[0m\u001b[0;34m,\u001b[0m \u001b[0maxis\u001b[0m\u001b[0;34m=\u001b[0m\u001b[0;36m1\u001b[0m\u001b[0;34m,\u001b[0m \u001b[0mcopy\u001b[0m\u001b[0;34m=\u001b[0m\u001b[0;32mFalse\u001b[0m\u001b[0;34m)\u001b[0m\u001b[0;34m\u001b[0m\u001b[0;34m\u001b[0m\u001b[0m\n\u001b[0m\u001b[1;32m     18\u001b[0m \u001b[0mdata\u001b[0m\u001b[0;34m[\u001b[0m\u001b[0;34m'Buy_Signal'\u001b[0m\u001b[0;34m]\u001b[0m \u001b[0;34m=\u001b[0m \u001b[0mnp\u001b[0m\u001b[0;34m.\u001b[0m\u001b[0mwhere\u001b[0m\u001b[0;34m(\u001b[0m\u001b[0;34m(\u001b[0m\u001b[0mdata\u001b[0m\u001b[0;34m[\u001b[0m\u001b[0;34m'Close'\u001b[0m\u001b[0;34m]\u001b[0m \u001b[0;34m<=\u001b[0m \u001b[0mdata\u001b[0m\u001b[0;34m[\u001b[0m\u001b[0;34m'Lower_Band'\u001b[0m\u001b[0;34m]\u001b[0m\u001b[0;34m)\u001b[0m \u001b[0;34m&\u001b[0m \u001b[0;34m(\u001b[0m\u001b[0mdata\u001b[0m\u001b[0;34m[\u001b[0m\u001b[0;34m'RSI'\u001b[0m\u001b[0;34m]\u001b[0m \u001b[0;34m>\u001b[0m \u001b[0mrsi_oversold_threshold\u001b[0m\u001b[0;34m)\u001b[0m\u001b[0;34m,\u001b[0m \u001b[0;36m1\u001b[0m\u001b[0;34m,\u001b[0m \u001b[0;36m0\u001b[0m\u001b[0;34m)\u001b[0m\u001b[0;34m\u001b[0m\u001b[0;34m\u001b[0m\u001b[0m\n\u001b[1;32m     19\u001b[0m \u001b[0mdata\u001b[0m\u001b[0;34m[\u001b[0m\u001b[0;34m'Sell_Signal'\u001b[0m\u001b[0;34m]\u001b[0m \u001b[0;34m=\u001b[0m \u001b[0mnp\u001b[0m\u001b[0;34m.\u001b[0m\u001b[0mwhere\u001b[0m\u001b[0;34m(\u001b[0m\u001b[0;34m(\u001b[0m\u001b[0mdata\u001b[0m\u001b[0;34m[\u001b[0m\u001b[0;34m'Close'\u001b[0m\u001b[0;34m]\u001b[0m \u001b[0;34m>=\u001b[0m \u001b[0mdata\u001b[0m\u001b[0;34m[\u001b[0m\u001b[0;34m'Upper_Band'\u001b[0m\u001b[0;34m]\u001b[0m\u001b[0;34m)\u001b[0m \u001b[0;34m&\u001b[0m \u001b[0;34m(\u001b[0m\u001b[0mdata\u001b[0m\u001b[0;34m[\u001b[0m\u001b[0;34m'RSI'\u001b[0m\u001b[0;34m]\u001b[0m \u001b[0;34m<\u001b[0m \u001b[0mrsi_overbought_threshold\u001b[0m\u001b[0;34m)\u001b[0m\u001b[0;34m,\u001b[0m \u001b[0;34m-\u001b[0m\u001b[0;36m1\u001b[0m\u001b[0;34m,\u001b[0m \u001b[0;36m0\u001b[0m\u001b[0;34m)\u001b[0m\u001b[0;34m\u001b[0m\u001b[0;34m\u001b[0m\u001b[0m\n",
            "\u001b[0;32m/usr/local/lib/python3.11/dist-packages/pandas/core/frame.py\u001b[0m in \u001b[0;36m__setitem__\u001b[0;34m(self, key, value)\u001b[0m\n\u001b[1;32m   4299\u001b[0m             \u001b[0mself\u001b[0m\u001b[0;34m.\u001b[0m\u001b[0m_setitem_array\u001b[0m\u001b[0;34m(\u001b[0m\u001b[0mkey\u001b[0m\u001b[0;34m,\u001b[0m \u001b[0mvalue\u001b[0m\u001b[0;34m)\u001b[0m\u001b[0;34m\u001b[0m\u001b[0;34m\u001b[0m\u001b[0m\n\u001b[1;32m   4300\u001b[0m         \u001b[0;32melif\u001b[0m \u001b[0misinstance\u001b[0m\u001b[0;34m(\u001b[0m\u001b[0mvalue\u001b[0m\u001b[0;34m,\u001b[0m \u001b[0mDataFrame\u001b[0m\u001b[0;34m)\u001b[0m\u001b[0;34m:\u001b[0m\u001b[0;34m\u001b[0m\u001b[0;34m\u001b[0m\u001b[0m\n\u001b[0;32m-> 4301\u001b[0;31m             \u001b[0mself\u001b[0m\u001b[0;34m.\u001b[0m\u001b[0m_set_item_frame_value\u001b[0m\u001b[0;34m(\u001b[0m\u001b[0mkey\u001b[0m\u001b[0;34m,\u001b[0m \u001b[0mvalue\u001b[0m\u001b[0;34m)\u001b[0m\u001b[0;34m\u001b[0m\u001b[0;34m\u001b[0m\u001b[0m\n\u001b[0m\u001b[1;32m   4302\u001b[0m         elif (\n\u001b[1;32m   4303\u001b[0m             \u001b[0mis_list_like\u001b[0m\u001b[0;34m(\u001b[0m\u001b[0mvalue\u001b[0m\u001b[0;34m)\u001b[0m\u001b[0;34m\u001b[0m\u001b[0;34m\u001b[0m\u001b[0m\n",
            "\u001b[0;32m/usr/local/lib/python3.11/dist-packages/pandas/core/frame.py\u001b[0m in \u001b[0;36m_set_item_frame_value\u001b[0;34m(self, key, value)\u001b[0m\n\u001b[1;32m   4427\u001b[0m             \u001b[0mlen_cols\u001b[0m \u001b[0;34m=\u001b[0m \u001b[0;36m1\u001b[0m \u001b[0;32mif\u001b[0m \u001b[0mis_scalar\u001b[0m\u001b[0;34m(\u001b[0m\u001b[0mcols\u001b[0m\u001b[0;34m)\u001b[0m \u001b[0;32mor\u001b[0m \u001b[0misinstance\u001b[0m\u001b[0;34m(\u001b[0m\u001b[0mcols\u001b[0m\u001b[0;34m,\u001b[0m \u001b[0mtuple\u001b[0m\u001b[0;34m)\u001b[0m \u001b[0;32melse\u001b[0m \u001b[0mlen\u001b[0m\u001b[0;34m(\u001b[0m\u001b[0mcols\u001b[0m\u001b[0;34m)\u001b[0m\u001b[0;34m\u001b[0m\u001b[0;34m\u001b[0m\u001b[0m\n\u001b[1;32m   4428\u001b[0m             \u001b[0;32mif\u001b[0m \u001b[0mlen_cols\u001b[0m \u001b[0;34m!=\u001b[0m \u001b[0mlen\u001b[0m\u001b[0;34m(\u001b[0m\u001b[0mvalue\u001b[0m\u001b[0;34m.\u001b[0m\u001b[0mcolumns\u001b[0m\u001b[0;34m)\u001b[0m\u001b[0;34m:\u001b[0m\u001b[0;34m\u001b[0m\u001b[0;34m\u001b[0m\u001b[0m\n\u001b[0;32m-> 4429\u001b[0;31m                 \u001b[0;32mraise\u001b[0m \u001b[0mValueError\u001b[0m\u001b[0;34m(\u001b[0m\u001b[0;34m\"Columns must be same length as key\"\u001b[0m\u001b[0;34m)\u001b[0m\u001b[0;34m\u001b[0m\u001b[0;34m\u001b[0m\u001b[0m\n\u001b[0m\u001b[1;32m   4430\u001b[0m \u001b[0;34m\u001b[0m\u001b[0m\n\u001b[1;32m   4431\u001b[0m             \u001b[0;31m# align right-hand-side columns if self.columns\u001b[0m\u001b[0;34m\u001b[0m\u001b[0;34m\u001b[0m\u001b[0m\n",
            "\u001b[0;31mValueError\u001b[0m: Columns must be same length as key"
          ]
        }
      ]
    },
    {
      "cell_type": "code",
      "source": [
        "# Trading parameters\n",
        "initial_balance = 10000  # Starting balance\n",
        "risk_per_trade = 0.02  # Risk 2% of the balance per trade\n",
        "risk_to_reward = 2  # Risk to reward ratio of 1:2 for stop loss : take profit\n",
        "stop_loss_factor = 1.5  # Stop loss factor (1.5x ATR distance)\n",
        "take_profit_factor = risk_to_reward * stop_loss_factor  # Take profit distance"
      ],
      "metadata": {
        "id": "FJHIkQlhn1Md"
      },
      "execution_count": null,
      "outputs": []
    },
    {
      "cell_type": "code",
      "source": [
        "# Simulate trading\n",
        "balance = initial_balance\n",
        "positions = 0\n",
        "buy_price = 0\n",
        "stop_loss_price = 0\n",
        "take_profit_price = 0\n",
        "trade_log = []\n",
        "\n",
        "for i in range(atr_period, len(data)):\n",
        "    close = data['Close'].iloc[i].item()\n",
        "    # Check if a buy signal is generated\n",
        "    if (data['Signal'].iloc[i] == 1) and positions == 0:\n",
        "        # Calculate position size based on risk per trade\n",
        "        atr = data['ATR'].iloc[i]\n",
        "        position_size = (balance * risk_per_trade / (atr * stop_loss_factor))\n",
        "\n",
        "        # Open a position\n",
        "        positions = position_size\n",
        "        trade_log.append(f\"Buy {position_size} shares at {buy_price} on {data.index[i]}\")\n",
        "\n",
        "        # Set buy price and stop loss\n",
        "        buy_price = close\n",
        "        stop_loss_price = buy_price - (atr * stop_loss_factor)\n",
        "        take_profit_price = buy_price + (atr * take_profit_factor)\n",
        "\n",
        "    # Check if a sell signal is generated and we have an open position\n",
        "    elif data['Signal'].iloc[i] == -1 and positions > 0:\n",
        "        # Close position\n",
        "        sell_price = close\n",
        "        profit = (sell_price - buy_price) * positions\n",
        "        balance += profit\n",
        "        positions = 0  # Close position\n",
        "        trade_log.append(f\"Sell {position_size} shares at {sell_price} on {data.index[i]} (Profit: {profit})\")\n",
        "\n",
        "    # Check if stop loss is hit\n",
        "    elif positions > 0 and close <= stop_loss_price:\n",
        "        # Close position at stop loss\n",
        "        sell_price = close\n",
        "        loss = (sell_price - buy_price) * positions\n",
        "        balance += loss\n",
        "        positions = 0  # Close position\n",
        "        trade_log.append(f\"Stop Loss hit for {position_size} shares at {sell_price} on {data.index[i]} (Loss: {loss})\")\n",
        "\n",
        "    # Check if take profit is hit\n",
        "    elif positions > 0 and close >= take_profit_price:\n",
        "        # Close position at take profit\n",
        "        sell_price = close\n",
        "        profit = (sell_price - buy_price) * positions\n",
        "        balance += profit\n",
        "        positions = 0  # Close position\n",
        "        trade_log.append(f\"Take Profit hit for {position_size} shares at {sell_price} on {data.index[i]} (Profit: {profit})\")\n"
      ],
      "metadata": {
        "id": "rDKb_v5Dn53-"
      },
      "execution_count": null,
      "outputs": []
    },
    {
      "cell_type": "code",
      "source": [
        "# Output results\n",
        "final_balance = balance\n",
        "print(f\"Final Balance: {final_balance}\")\n",
        "print(f\"Total profit/loss: {final_balance - initial_balance}\")"
      ],
      "metadata": {
        "id": "yAzrTXEazjTU"
      },
      "execution_count": null,
      "outputs": []
    },
    {
      "cell_type": "code",
      "source": [
        "# Print trade log\n",
        "for trade in trade_log:\n",
        "    print(trade)"
      ],
      "metadata": {
        "id": "KASqv4rvzrIg"
      },
      "execution_count": null,
      "outputs": []
    },
    {
      "cell_type": "code",
      "source": [
        "# Plot the price with buy and sell signals\n",
        "plt.figure(figsize=(12, 6))\n",
        "plt.plot(data['Close'], label='Price')\n",
        "plt.plot(data['EMA10'], label='EMA 10', linestyle='--')\n",
        "plt.plot(data['EMA50'], label='EMA 50', linestyle='--')\n",
        "plt.scatter(data.index[data['Signal'] == 1], data['Close'][data['Signal'] == 1], marker='^', color='g', label='Buy Signal')\n",
        "plt.scatter(data.index[data['Signal'] == -1], data['Close'][data['Signal'] == -1], marker='v', color='r', label='Sell Signal')\n",
        "plt.title(f'{symbol} Moving Average Crossover Strategy')\n",
        "plt.legend()\n",
        "plt.show()"
      ],
      "metadata": {
        "id": "kvacMacbzvoO"
      },
      "execution_count": null,
      "outputs": []
    },
    {
      "cell_type": "code",
      "source": [
        "# prompt: tell some parameters to measure the strategy performance\n",
        "\n",
        "# Calculate additional performance metrics\n",
        "total_trades = len([trade for trade in trade_log if \"Profit\" in trade or \"Loss\" in trade])\n",
        "winning_trades = len([trade for trade in trade_log if \"Profit\" in trade])\n",
        "losing_trades = len([trade for trade in trade_log if \"Loss\" in trade])\n",
        "\n",
        "if total_trades > 0:\n",
        "    win_rate = winning_trades / total_trades\n",
        "    max_drawdown = 0  # Placeholder for max drawdown calculation\n",
        "    # ... (Code to calculate max drawdown - see explanation below)\n",
        "    average_win = np.mean([float(trade.split(\"(\")[1].split(\":\")[1].split(\")\")[0]) for trade in trade_log if \"Profit\" in trade]) if winning_trades else 0\n",
        "    average_loss = np.mean([abs(float(trade.split(\"(\")[1].split(\":\")[1].split(\")\")[0])) for trade in trade_log if \"Loss\" in trade]) if losing_trades else 0\n",
        "    profit_factor = (sum(float(trade.split(\"(\")[1].split(\":\")[1].split(\")\")[0]) for trade in trade_log if \"Profit\" in trade) /\n",
        "                     abs(sum(float(trade.split(\"(\")[1].split(\":\")[1].split(\")\")[0]) for trade in trade_log if \"Loss\" in trade))) if losing_trades else 0\n",
        "\n",
        "    print(f\"Total Trades: {total_trades}\")\n",
        "    print(f\"Win Rate: {win_rate:.2f}\")\n",
        "    print(f\"Max Drawdown: {max_drawdown:.2f}\")  # Placeholder, needs calculation\n",
        "    print(f\"Average Win: {average_win:.2f}\")\n",
        "    print(f\"Average Loss: {average_loss:.2f}\")\n",
        "    print(f\"Profit Factor: {profit_factor:.2f}\")\n",
        "else:\n",
        "    print(\"No trades executed.\")\n"
      ],
      "metadata": {
        "id": "c-mmF-yF3UqI"
      },
      "execution_count": null,
      "outputs": []
    }
  ]
}